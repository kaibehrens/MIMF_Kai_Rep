{
 "cells": [
  {
   "cell_type": "markdown",
   "id": "5df918c3",
   "metadata": {},
   "source": [
    "This is the homework for week 2! The prompt is to use NumPy (or sagemath) to determine if a list of vectors forms an orthogonal / orthonormal basis for a vector space, compute inner products, multiply matrices, and compute LU and spectral decompositions."
   ]
  },
  {
   "cell_type": "markdown",
   "id": "acddcf64",
   "metadata": {},
   "source": [
    "Problem 1: Build a function to take two vectors with real-valued entries and compute their inner product. "
   ]
  },
  {
   "cell_type": "code",
   "execution_count": 4,
   "id": "836d1193",
   "metadata": {},
   "outputs": [
    {
     "name": "stdout",
     "output_type": "stream",
     "text": [
      "The inner product of [1, 2, 3, -1] and [-2, 1, 1, 3] is 0\n"
     ]
    }
   ],
   "source": [
    "def ip(v1,v2):\n",
    "    ip_out = 0 \n",
    "\n",
    "    # ip out is the running sum of our terms\n",
    "    for i in range(len(v1)):\n",
    "        # this line computes ith sum in our inner product calculation\n",
    "        ip_out = ip_out + v1[i]*v2[i]\n",
    "    \n",
    "    #the reutrn statement ends the function and outputs the inner product of both vectors\n",
    "    return ip_out \n",
    "\n",
    "#put test cases here\n",
    "a = [1,2,3,-1]\n",
    "b = [-2,1,1,3]\n",
    "\n",
    "#print the output\n",
    "print(f'The inner product of {a} and {b} is {ip(a,b)}')"
   ]
  },
  {
   "cell_type": "markdown",
   "id": "0c81d128",
   "metadata": {},
   "source": [
    "Problem 2: Build a function which checks if two matrices can be multiplied and then multiplies them."
   ]
  },
  {
   "cell_type": "code",
   "execution_count": null,
   "id": "b1c79aba",
   "metadata": {},
   "outputs": [],
   "source": []
  },
  {
   "cell_type": "code",
   "execution_count": 5,
   "id": "9e118869",
   "metadata": {},
   "outputs": [
    {
     "data": {
      "text/plain": [
       "array([[ 7.,  6.],\n",
       "       [-3., -2.]])"
      ]
     },
     "execution_count": 5,
     "metadata": {},
     "output_type": "execute_result"
    }
   ],
   "source": [
    "import numpy as np\n",
    "\n",
    "A = np.array( [ [3,2], [-1,0]] )\n",
    "B = np.array( [ [3,2], [-1,0]] )\n",
    "\n",
    "def canMult(A,B):\n",
    "    if np.shape(A)[1] == np.shape(A)[0]:\n",
    "        return True\n",
    "    else:\n",
    "        return False\n",
    "\n",
    "#multiply the matrices    \n",
    "def mult(A,B):\n",
    "    m = np.shape(A)[0]\n",
    "    n = np.shape(A)[1]\n",
    "    r = np.shape(B)[1]\n",
    "    sh = (m,r)\n",
    "\n",
    "    C = np.zeros(sh)\n",
    "    if canMult(A,B) is True:\n",
    "        for i in range(np.shape(B)[1]): \n",
    "            for j in range(m):\n",
    "                C[j,i] = ip(A[j,:],B[:,i])\n",
    "                \n",
    "        return C \n",
    "    else:\n",
    "        return print('Cannot multiply these matrices')\n",
    "\n",
    "mult(A,B)"
   ]
  },
  {
   "cell_type": "markdown",
   "id": "7e96eda9",
   "metadata": {},
   "source": [
    "Problem 3: Build a function which takes A and computes $A^T$."
   ]
  },
  {
   "cell_type": "code",
   "execution_count": 4,
   "id": "715dafbd",
   "metadata": {},
   "outputs": [
    {
     "name": "stdout",
     "output_type": "stream",
     "text": [
      "Original A:\n",
      " [[1 2 3]\n",
      " [4 5 6]]\n",
      "Transpose of A:\n",
      " [[1 4]\n",
      " [2 5]\n",
      " [3 6]]\n"
     ]
    }
   ],
   "source": [
    "import numpy as np\n",
    "\n",
    "def transpose(A):\n",
    "    \"\"\"Return the transpose of matrix A.\"\"\"\n",
    "    return np.transpose(A)\n",
    "\n",
    "# Example test\n",
    "A = np.array([[1, 2, 3],\n",
    "              [4, 5, 6]])\n",
    "print(\"Original A:\\n\", A)\n",
    "print(\"Transpose of A:\\n\", transpose(A))\n",
    "\n"
   ]
  },
  {
   "cell_type": "markdown",
   "id": "85e1b299",
   "metadata": {},
   "source": [
    "Problem 4: Build a function which determines if a list of vectors is an orthogonal or orthonormal basis by computing $A^T A$ and checking if it is diagonal / I. (Hint: Use your function from problem 3!)"
   ]
  },
  {
   "cell_type": "code",
   "execution_count": 5,
   "id": "9a246ec0",
   "metadata": {},
   "outputs": [
    {
     "name": "stdout",
     "output_type": "stream",
     "text": [
      "Vectors1: Orthonormal basis\n",
      "Vectors2: Not orthogonal\n"
     ]
    }
   ],
   "source": [
    "def check_basis(vectors):\n",
    "    \"\"\"Check if a list of vectors is orthogonal or orthonormal.\"\"\"\n",
    "    A = np.array(vectors).T\n",
    "    gram = transpose(A) @ A\n",
    "    \n",
    "    if np.allclose(gram, np.eye(gram.shape[0])):\n",
    "        return \"Orthonormal basis\"\n",
    "    elif np.allclose(gram, np.diag(np.diag(gram))):\n",
    "        return \"Orthogonal basis\"\n",
    "    else:\n",
    "        return \"Not orthogonal\"\n",
    "\n",
    "# Example tests\n",
    "vectors1 = [[1, 0], [0, 1]]  # standard basis in R^2\n",
    "vectors2 = [[1, 0], [1, 1]]  # not orthogonal\n",
    "\n",
    "print(\"Vectors1:\", check_basis(vectors1))\n",
    "print(\"Vectors2:\", check_basis(vectors2))\n",
    "\n"
   ]
  },
  {
   "cell_type": "markdown",
   "id": "b0767499",
   "metadata": {},
   "source": [
    "Problem 5: Use Numpy's internal tools to compute the eigenvectors and eigenvalues of A, and then build a function which outputs the spectral decomposition of A."
   ]
  },
  {
   "cell_type": "code",
   "execution_count": 6,
   "id": "cc43486a",
   "metadata": {},
   "outputs": [
    {
     "name": "stdout",
     "output_type": "stream",
     "text": [
      "Eigenvectors (V):\n",
      " [[ 0.70710678 -0.4472136 ]\n",
      " [ 0.70710678  0.89442719]]\n",
      "Eigenvalues (Lambda):\n",
      " [[5. 0.]\n",
      " [0. 2.]]\n",
      "Check reconstruction (V Λ V^-1):\n",
      " [[4. 1.]\n",
      " [2. 3.]]\n"
     ]
    }
   ],
   "source": [
    "def spectral_decomposition(A):\n",
    "    \"\"\"Return the spectral decomposition of matrix A.\"\"\"\n",
    "    vals, vecs = np.linalg.eig(A)\n",
    "    # Reconstruct A from spectral decomposition: A = V Λ V^{-1}\n",
    "    Lambda = np.diag(vals)\n",
    "    V = vecs\n",
    "    V_inv = np.linalg.inv(V)\n",
    "    return V, Lambda, V_inv\n",
    "\n",
    "# Example test\n",
    "A = np.array([[4, 1],\n",
    "              [2, 3]])\n",
    "V, Lambda, V_inv = spectral_decomposition(A)\n",
    "print(\"Eigenvectors (V):\\n\", V)\n",
    "print(\"Eigenvalues (Lambda):\\n\", Lambda)\n",
    "print(\"Check reconstruction (V Λ V^-1):\\n\", V @ Lambda @ V_inv)\n",
    "\n"
   ]
  }
 ],
 "metadata": {
  "kernelspec": {
   "display_name": "base",
   "language": "python",
   "name": "python3"
  },
  "language_info": {
   "codemirror_mode": {
    "name": "ipython",
    "version": 3
   },
   "file_extension": ".py",
   "mimetype": "text/x-python",
   "name": "python",
   "nbconvert_exporter": "python",
   "pygments_lexer": "ipython3",
   "version": "3.12.7"
  }
 },
 "nbformat": 4,
 "nbformat_minor": 5
}
