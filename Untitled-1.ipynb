{
 "cells": [
  {
   "cell_type": "markdown",
   "id": "f692eaaa",
   "metadata": {},
   "source": [
    "Inputs: \n",
    "- Your hand value (sum of cards)\n",
    "- How many cards are left in the deck\n",
    "- How many face cards are left in the deck\n",
    "- How many aces are left in the deck"
   ]
  },
  {
   "cell_type": "code",
   "execution_count": null,
   "id": "c42406c1",
   "metadata": {},
   "outputs": [
    {
     "name": "stdout",
     "output_type": "stream",
     "text": [
      "The probability of hosting is 0.02406417112299465.\n"
     ]
    }
   ],
   "source": [
    "# inputs\n",
    "hv = 14 \n",
    "cardsleft = 52 \n",
    "faces = 16\n",
    "aces = 4 \n",
    "aceValue = 11\n",
    "\n",
    "B = 21-hv\n",
    "beta = []\n",
    "for i in range(1,B+1):\n",
    "    beta += [i]\n",
    "\n",
    "#Calculate p(x>0)\n",
    "xGb = 0\n",
    "for bi in beta: \n",
    "    if 1< bi < 10:\n",
    "        xGb += faces/cardsleft\n",
    "    elif bi == aceValue: \n",
    "        xGb += aces/cardsleft \n",
    "    else:\n",
    "        xGb += 1 - (faces/cardsleft + aces/cardsleft)\n",
    "\n",
    "#ser the probability that x > beta\n",
    "xGb /= len(beta)\n",
    "\n",
    "#calculate E[X]\n",
    "eFaces = (2+3+4+5+6+7+8+9)*faces/cardsleft \n",
    "eAces = aceValue*aces/cardsleft\n",
    "\n",
    "eX = eFaces + eAces \n",
    "\n",
    "lam = xGb/eX \n",
    "print(f'The probability of hosting is {lam}.')\n"
   ]
  }
 ],
 "metadata": {
  "kernelspec": {
   "display_name": "base",
   "language": "python",
   "name": "python3"
  },
  "language_info": {
   "codemirror_mode": {
    "name": "ipython",
    "version": 3
   },
   "file_extension": ".py",
   "mimetype": "text/x-python",
   "name": "python",
   "nbconvert_exporter": "python",
   "pygments_lexer": "ipython3",
   "version": "3.12.7"
  }
 },
 "nbformat": 4,
 "nbformat_minor": 5
}
