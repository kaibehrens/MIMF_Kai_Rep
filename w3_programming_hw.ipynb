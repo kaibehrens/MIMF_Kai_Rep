{
 "cells": [
  {
   "cell_type": "markdown",
   "id": "7f5b3cd9",
   "metadata": {},
   "source": [
    "# Euler's Method:"
   ]
  },
  {
   "cell_type": "markdown",
   "id": "31512333",
   "metadata": {},
   "source": [
    "We want to build an ODE solver that allows us to specify an IVP, and then outputs a table and graph of the DE.\n",
    "\n",
    " - $y_{n+1} = y_n + h*y'(x_n, y_n)$"
   ]
  },
  {
   "cell_type": "markdown",
   "id": "8fcaffe1",
   "metadata": {},
   "source": [
    "Test Example:\n",
    "\n",
    " - $ y'(x) = y-x^2+1$\n",
    "\n",
    " - $y(0) = 0.5$"
   ]
  },
  {
   "cell_type": "code",
   "execution_count": null,
   "id": "18a0d529",
   "metadata": {},
   "outputs": [
    {
     "ename": "NameError",
     "evalue": "name 'h' is not defined",
     "output_type": "error",
     "traceback": [
      "\u001b[1;31m---------------------------------------------------------------------------\u001b[0m",
      "\u001b[1;31mNameError\u001b[0m                                 Traceback (most recent call last)",
      "Cell \u001b[1;32mIn[10], line 28\u001b[0m\n\u001b[0;32m     25\u001b[0m ode \u001b[38;5;241m=\u001b[39m pd\u001b[38;5;241m.\u001b[39mDataFrame(columns\u001b[38;5;241m=\u001b[39mcols)\n\u001b[0;32m     27\u001b[0m dx \u001b[38;5;241m=\u001b[39m get_dx(n,lastX,x0)\n\u001b[1;32m---> 28\u001b[0m ode\u001b[38;5;241m.\u001b[39mloc[\u001b[38;5;241m0\u001b[39m] \u001b[38;5;241m=\u001b[39m [\u001b[38;5;241m0\u001b[39m, x0, y0, YP(x0,y0), new_y(x0,y0,h)]\n\u001b[0;32m     30\u001b[0m \u001b[38;5;66;03m#fill out the table\u001b[39;00m\n\u001b[0;32m     31\u001b[0m \u001b[38;5;28;01mfor\u001b[39;00m i \u001b[38;5;129;01min\u001b[39;00m \u001b[38;5;28mrange\u001b[39m(\u001b[38;5;241m1\u001b[39m,n):\n",
      "\u001b[1;31mNameError\u001b[0m: name 'h' is not defined"
     ]
    }
   ],
   "source": [
    "import pandas as pd\n",
    "import numpy as np \n",
    "import matplotlib.pyplot as plt\n",
    "\n",
    "# initial values\n",
    "x0= 0\n",
    "y0= 0.5\n",
    "n = 10000\n",
    "lastX = 5\n",
    "\n",
    "# Putting in DE\n",
    "def YP(x,y):\n",
    "    return float (y-x**2+1)\n",
    "\n",
    "# now we need our new y value based on current x & y\n",
    "def new_y(x,y,h):\n",
    "    return y + h*YP(x,y)\n",
    "\n",
    "# get dx from intended y value\n",
    "def get_dx(granularity, endval, startval):\n",
    "    return (+endval-startval)/granularity\n",
    "\n",
    "# initialize dataframe\n",
    "cols = ['n', 'x_n', 'y_n', 'Y_P', 'y_n+1']\n",
    "ode = pd.DataFrame(columns=cols)\n",
    "\n",
    "dx = get_dx(n,lastX,x0)\n",
    "ode.loc[0] = [0, x0, y0, YP(x0,y0), new_y(x0,y0,h)]\n",
    "\n",
    "#fill out the table\n",
    "for i in range(1,n):\n",
    "    ode.loc[i, 'n'] = i\n",
    "    ode.loc[i, 'x_n'] = ode.loc[i-1, 'y_n+1'] + dx\n",
    "    ode.loc[i, 'y_n'] = ode.loc[i-1, 'y_n+1']\n",
    "    ode.loc[i, 'y_p'] = YP(ode.loc[i, 'x_n'], ode.loc[i, 'y_n'])\n",
    "    ode.loc[i, 'y_n+1'] = new_y(ode.loc[i, 'x_n'],ode.loc[i, 'y_n'], dx)\n",
    "\n",
    "display(ode)\n",
    "\n",
    "# plot the figure\n",
    "plt.figure \n",
    "plt.plot(ode['x_n'],ode['y_n'])\n",
    "plt.xlabel('X-Axis')\n",
    "plt.ylabel('Y-Axis')\n",
    "plt.title(f'ODE Plot, dx = {dx}')"
   ]
  },
  {
   "cell_type": "markdown",
   "id": "24f209a2",
   "metadata": {},
   "source": [
    "# Monte-Carlo Simulation:"
   ]
  },
  {
   "cell_type": "markdown",
   "id": "bc5dc77d",
   "metadata": {},
   "source": [
    "Algorithm:\n",
    " - Sample randomly according to a uniform distribution in $[a,b]$.\n",
    " \n",
    " - Generate $dx$ list.\n",
    "\n",
    " - Use Euler's method, but don't use $n*h$, use $dx_i$ from the $dx$ list."
   ]
  },
  {
   "cell_type": "code",
   "execution_count": null,
   "id": "7e284a17",
   "metadata": {},
   "outputs": [],
   "source": [
    "import pandas as pd \n",
    "import numpy as np \n",
    "import matplotlib.pyplot as plt \n",
    "import random as rd \n",
    "\n",
    "# Just getting started here with our initial values\n",
    "x0 = 0\n",
    "y0 = 0.5 \n",
    "n = 10000 \n",
    "lastX - 10 # the ending X value on our graph\n",
    "\n",
    "# get y prime evaluated at x and y\n",
    "def YP(x,y): \n",
    "    return float(y-x^2+1)\n",
    "\n",
    "# get the next y value based on current x and y \n",
    "def new_y(x,y,h):\n",
    "    return y + h*YP(x,y) \n",
    "\n",
    "# initializing our dataframe and naming our coloums\n",
    "cols = ['n', 'x_n', 'y_n', 'y_p', 'y_n+1'] # giving the columns titles\n",
    "ode = pd.DataFrame(columns = cols)\n",
    "\n",
    "# get n for intended last y values\n",
    "\n",
    "def get_dx(granularity, endval, starval): \n",
    "     # now we are implementing our random sample\n",
    "     xsample = [] # we want to start with this empty list. \n",
    "     for i in range(granularity): \n",
    "         xsample += [rd.uniform(starval,endval)]"
   ]
  }
 ],
 "metadata": {
  "kernelspec": {
   "display_name": "base",
   "language": "python",
   "name": "python3"
  },
  "language_info": {
   "codemirror_mode": {
    "name": "ipython",
    "version": 3
   },
   "file_extension": ".py",
   "mimetype": "text/x-python",
   "name": "python",
   "nbconvert_exporter": "python",
   "pygments_lexer": "ipython3",
   "version": "3.12.7"
  }
 },
 "nbformat": 4,
 "nbformat_minor": 5
}
