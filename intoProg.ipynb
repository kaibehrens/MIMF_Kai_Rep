{
 "cells": [
  {
   "cell_type": "markdown",
   "id": "14d6070f",
   "metadata": {},
   "source": [
    "Into to programming notebook from in class 09/22/2025"
   ]
  },
  {
   "cell_type": "markdown",
   "id": "6c4b302d",
   "metadata": {},
   "source": [
    "string \"or\" denoted as str\n",
    "- int = whole numbers without decimals \n",
    "- float = numbers with decimals / decimal representations of fractions \n",
    "- boolean data = True and False\n",
    "- Fstring f' or f\" \n",
    "- \\n in a new line adds a string"
   ]
  },
  {
   "cell_type": "code",
   "execution_count": 12,
   "id": "c76a8978",
   "metadata": {},
   "outputs": [
    {
     "name": "stdout",
     "output_type": "stream",
     "text": [
      "I am stroing a numerical value in a string: \n",
      "245\n"
     ]
    }
   ],
   "source": [
    "stringvar = 'this is a string'\n",
    "intvar = 245\n",
    "floatvar = 74/28 \n",
    "boolvar = True\n",
    "fstring = f'I am stroing a numerical value in a string: \\n{intvar}'\n",
    "\n",
    "print(fstring)"
   ]
  },
  {
   "cell_type": "markdown",
   "id": "bc8c2352",
   "metadata": {},
   "source": [
    "Arithmetic \n",
    "\n",
    "- into vs float \n",
    "\n",
    "- '+', '-', '/', '*' work well\n",
    "\n",
    "- float uses ^ for exponentiation \n",
    "\n",
    "- int uses ** for exponentiation \n",
    "\n",
    "- % is the modulo operator, we use it to check if numbers are even or odd\n",
    "    - a % b = remainder of a/b a%2 = remainds of a/2, if a is even, r(a/2)=0\n",
    "        - even: a = 2k + 0\n",
    "            - K (E) (Real Numbers)\n",
    "        - odd: a = 2k+1\n",
    "\n",
    "\n",
    "\n"
   ]
  },
  {
   "cell_type": "code",
   "execution_count": 5,
   "id": "1aa7e093",
   "metadata": {},
   "outputs": [
    {
     "data": {
      "text/plain": [
       "57918773205287127842044254126179599852840968492056164062843692360166371779746690236416"
      ]
     },
     "execution_count": 5,
     "metadata": {},
     "output_type": "execute_result"
    }
   ],
   "source": [
    "34**56"
   ]
  },
  {
   "cell_type": "markdown",
   "id": "ca09e694",
   "metadata": {},
   "source": [
    "Storage Types \n",
    "\n",
    "- Lists [], keep things in order and you can reference based on positon in the list\n",
    "\n",
    "- Dictionary, {key:value}, stores values to keys\n",
    "\n",
    "- we can reference the ith value of something in a list by using list[i] or dect[key[i]]\n",
    "\n",
    "- We can append listst by += [thing we want to add]\n",
    "\n",
    "- We can append dictionaries by dict['key']"
   ]
  },
  {
   "cell_type": "code",
   "execution_count": 8,
   "id": "09fe0e76",
   "metadata": {},
   "outputs": [
    {
     "name": "stdout",
     "output_type": "stream",
     "text": [
      "('David', 'Kai', 'Adam', 'Tim')\n"
     ]
    }
   ],
   "source": [
    "list = [1, 2, 3, 4, 5, 6]\n",
    "\n",
    "dict1 = ('David','Kai', 'Adam', 'Tim')\n",
    "\n",
    "print(dict1)\n"
   ]
  },
  {
   "cell_type": "markdown",
   "id": "a523b451",
   "metadata": {},
   "source": [
    "Loop Types\n",
    "\n",
    "- for loops say \"for i equals 1 to n, do this thing repeatedly\", or \"for each value in a list, do something repeadedly\n",
    "\n",
    "- while loops run until something isn't true\n",
    "\n",
    "- == means \"is equal to\"\n",
    "\n",
    "- reange gives you numers 0 through n\n",
    "\n",
    "- += is equivalent to x = x + (whatever is one the RHS of +=)\n",
    "\n",
    "- rangle gives you numbers 0 through n\n",
    "\n",
    "- len \n",
    "\n",
    "- range(\n",
    "    \n",
    ")"
   ]
  },
  {
   "cell_type": "code",
   "execution_count": null,
   "id": "4775b7db",
   "metadata": {},
   "outputs": [],
   "source": [
    "for i in range(len(dic))"
   ]
  },
  {
   "cell_type": "markdown",
   "id": "2330310a",
   "metadata": {},
   "source": [
    "If statements \n",
    "\n",
    "- works eacclty as you would expect \n",
    "\n",
    "- if, elif, else\n",
    "\n",
    "- == means \"is equal to\"\n",
    "\n",
    "- != means \"is not equal to\"\n",
    "\n",
    "- The following items, >, <, >=, <= all work as expected\n",
    "\n",
    "- for boolean statemtns, we use \"blalbalah is True\", not \"==True\""
   ]
  },
  {
   "cell_type": "code",
   "execution_count": 3,
   "id": "2a50fde1",
   "metadata": {},
   "outputs": [
    {
     "ename": "SyntaxError",
     "evalue": "expected ':' (1819244557.py, line 5)",
     "output_type": "error",
     "traceback": [
      "  \u001b[36mCell\u001b[39m\u001b[36m \u001b[39m\u001b[32mIn[3]\u001b[39m\u001b[32m, line 5\u001b[39m\n\u001b[31m    \u001b[39m\u001b[31melse j is False\u001b[39m\n         ^\n\u001b[31mSyntaxError\u001b[39m\u001b[31m:\u001b[39m expected ':'\n"
     ]
    }
   ],
   "source": [
    "j = 3\n",
    "\n",
    "if j is True:\n",
    "    print('cool')\n",
    "else j is False\n",
    "    print('less cool')\n",
    "else: \n",
    "    print('not cool at all')"
   ]
  },
  {
   "cell_type": "markdown",
   "id": "bcf2ea97",
   "metadata": {},
   "source": [
    "Combining Things"
   ]
  },
  {
   "cell_type": "code",
   "execution_count": 7,
   "id": "3b80c938",
   "metadata": {},
   "outputs": [
    {
     "name": "stdout",
     "output_type": "stream",
     "text": [
      "1\n",
      "2\n",
      "3\n",
      "4\n",
      "5\n",
      "[7, 8, 9]\n"
     ]
    }
   ],
   "source": [
    "j = True \n",
    "i = 0 \n",
    "\n",
    "while j is True:\n",
    "    i += 1\n",
    "    if i >= 5:\n",
    "        j = False \n",
    "    print(i)\n",
    "\n",
    "elist = []\n",
    "for i in range(10):\n",
    "    if i >= 7:\n",
    "        elist += [i]\n",
    "\n",
    "print(elist)\n"
   ]
  },
  {
   "cell_type": "markdown",
   "id": "1065c162",
   "metadata": {},
   "source": [
    "Make a program which outputs the fibonacci sequence up to its nth digit\n",
    "\n",
    "Fn = Fn-1 + Fn-2, F0 = 0 F1 = 1\n",
    "\n",
    "\n",
    "PSEUDOCODE \n",
    "- fibseq = [0,1] ; n=30\n",
    "- for i = 2 --> i=n \n",
    "    fibseq[i] = [fibseq[i -1] + fib seq[i-2] [fibseq]] \\n"
   ]
  },
  {
   "cell_type": "code",
   "execution_count": 11,
   "id": "02635757",
   "metadata": {},
   "outputs": [
    {
     "name": "stdout",
     "output_type": "stream",
     "text": [
      "This is the Fib... sequence up to its [n]th digiit: \n",
      " =[0, 1, 1, 2, 3, 5, 8, 13, 21, 34, 55, 89, 144, 233, 377, 610, 987, 1597, 2584, 4181, 6765, 10946, 17711, 28657, 46368, 75025, 121393, 196418, 317811, 514229]\n"
     ]
    }
   ],
   "source": [
    "fibseq = [0,1]\n",
    "\n",
    "n = 30 \n",
    "\n",
    "for i in range(2,n):\n",
    "    fibseq += [fibseq[i-1] + fibseq[i-2]]\n",
    "\n",
    "print(f'This is the Fib... sequence up to its [n]th digiit: \\n ={fibseq}')"
   ]
  },
  {
   "cell_type": "markdown",
   "id": "13259ee4",
   "metadata": {},
   "source": [
    "Functions \n",
    "\n",
    "- Let you input certain parameters and return certain outputs according to the same block of code every time\n",
    "\n",
    "- 'return' end the function \n",
    "\n",
    "- \"break\" ends the function without returning anything"
   ]
  },
  {
   "cell_type": "code",
   "execution_count": 14,
   "id": "7042855a",
   "metadata": {},
   "outputs": [
    {
     "data": {
      "text/plain": [
       "[0, 1, 1]"
      ]
     },
     "execution_count": 14,
     "metadata": {},
     "output_type": "execute_result"
    }
   ],
   "source": [
    "def fibonacci(n):\n",
    "    fibseq = [0,1]\n",
    "\n",
    "    for i in range(2,n):\n",
    "        fibseq += [fibseq[i-1]+  fibseq[i-2]]\n",
    "\n",
    "    return fibseq \n",
    "\n",
    "fibonacci(3)"
   ]
  },
  {
   "cell_type": "markdown",
   "id": "780a9d95",
   "metadata": {},
   "source": [
    "Build Function whihc only outputs the odd elements of the Fibonacci sequence"
   ]
  },
  {
   "cell_type": "code",
   "execution_count": 17,
   "id": "ce773c74",
   "metadata": {},
   "outputs": [
    {
     "data": {
      "text/plain": [
       "[1, 1, 3, 5, 13, 21, 55, 89, 233, 377, 987, 1597, 4181, 6765, 17711, 28657]"
      ]
     },
     "execution_count": 17,
     "metadata": {},
     "output_type": "execute_result"
    }
   ],
   "source": [
    "def oddlist(n):\n",
    "    oddlist = []\n",
    "    fiblist = fibonacci(n)\n",
    "    for i in fiblist: \n",
    "        if i % 2 == 1:\n",
    "         oddlist += [i]\n",
    "\n",
    "    return oddlist\n",
    "\n",
    "oddlist(24)\n",
    "\n"
   ]
  },
  {
   "cell_type": "markdown",
   "id": "1f0636f2",
   "metadata": {},
   "source": [
    "PANDAS AND NUMPY"
   ]
  },
  {
   "cell_type": "markdown",
   "id": "73131ad3",
   "metadata": {},
   "source": [
    "Pandas \n",
    "\n",
    "- List are called \n",
    "\n",
    "- we reference enttires by df.loc[row number, column number]\n",
    "\n",
    "- if we want an entire row, we can do df.loc[row number,:]\n",
    "\n",
    "- if we want an entire column, we can do df.loc[:, column number]"
   ]
  },
  {
   "cell_type": "code",
   "execution_count": 5,
   "id": "190161f6",
   "metadata": {},
   "outputs": [
    {
     "data": {
      "text/html": [
       "<div>\n",
       "<style scoped>\n",
       "    .dataframe tbody tr th:only-of-type {\n",
       "        vertical-align: middle;\n",
       "    }\n",
       "\n",
       "    .dataframe tbody tr th {\n",
       "        vertical-align: top;\n",
       "    }\n",
       "\n",
       "    .dataframe thead th {\n",
       "        text-align: right;\n",
       "    }\n",
       "</style>\n",
       "<table border=\"1\" class=\"dataframe\">\n",
       "  <thead>\n",
       "    <tr style=\"text-align: right;\">\n",
       "      <th></th>\n",
       "      <th>column 1</th>\n",
       "      <th>column 2</th>\n",
       "      <th>columm 3</th>\n",
       "    </tr>\n",
       "  </thead>\n",
       "  <tbody>\n",
       "    <tr>\n",
       "      <th>0</th>\n",
       "      <td>10</td>\n",
       "      <td>10</td>\n",
       "      <td>5</td>\n",
       "    </tr>\n",
       "    <tr>\n",
       "      <th>1</th>\n",
       "      <td>5</td>\n",
       "      <td>9</td>\n",
       "      <td>4</td>\n",
       "    </tr>\n",
       "    <tr>\n",
       "      <th>2</th>\n",
       "      <td>4</td>\n",
       "      <td>3</td>\n",
       "      <td>4</td>\n",
       "    </tr>\n",
       "    <tr>\n",
       "      <th>3</th>\n",
       "      <td>10</td>\n",
       "      <td>3</td>\n",
       "      <td>4</td>\n",
       "    </tr>\n",
       "    <tr>\n",
       "      <th>4</th>\n",
       "      <td>6</td>\n",
       "      <td>7</td>\n",
       "      <td>10</td>\n",
       "    </tr>\n",
       "    <tr>\n",
       "      <th>5</th>\n",
       "      <td>4</td>\n",
       "      <td>6</td>\n",
       "      <td>5</td>\n",
       "    </tr>\n",
       "    <tr>\n",
       "      <th>6</th>\n",
       "      <td>4</td>\n",
       "      <td>6</td>\n",
       "      <td>9</td>\n",
       "    </tr>\n",
       "    <tr>\n",
       "      <th>7</th>\n",
       "      <td>4</td>\n",
       "      <td>1</td>\n",
       "      <td>1</td>\n",
       "    </tr>\n",
       "    <tr>\n",
       "      <th>8</th>\n",
       "      <td>6</td>\n",
       "      <td>1</td>\n",
       "      <td>9</td>\n",
       "    </tr>\n",
       "    <tr>\n",
       "      <th>9</th>\n",
       "      <td>6</td>\n",
       "      <td>5</td>\n",
       "      <td>4</td>\n",
       "    </tr>\n",
       "  </tbody>\n",
       "</table>\n",
       "</div>"
      ],
      "text/plain": [
       "   column 1  column 2  columm 3\n",
       "0        10        10         5\n",
       "1         5         9         4\n",
       "2         4         3         4\n",
       "3        10         3         4\n",
       "4         6         7        10\n",
       "5         4         6         5\n",
       "6         4         6         9\n",
       "7         4         1         1\n",
       "8         6         1         9\n",
       "9         6         5         4"
      ]
     },
     "metadata": {},
     "output_type": "display_data"
    }
   ],
   "source": [
    "import pandas as pd \n",
    "import random as rd\n",
    "\n",
    "cols = ['column 1', 'column 2', 'columm 3']\n",
    "df = pd.DataFrame(columns = cols)\n",
    "\n",
    "for i in range(10):\n",
    "    df.loc[i] = [rd.randint(1,10), rd.randint(1,10), rd.randint(1,10)]\n",
    "\n",
    "display(df)\n"
   ]
  },
  {
   "cell_type": "code",
   "execution_count": 7,
   "id": "3acf3f7e",
   "metadata": {},
   "outputs": [
    {
     "data": {
      "text/html": [
       "<div>\n",
       "<style scoped>\n",
       "    .dataframe tbody tr th:only-of-type {\n",
       "        vertical-align: middle;\n",
       "    }\n",
       "\n",
       "    .dataframe tbody tr th {\n",
       "        vertical-align: top;\n",
       "    }\n",
       "\n",
       "    .dataframe thead th {\n",
       "        text-align: right;\n",
       "    }\n",
       "</style>\n",
       "<table border=\"1\" class=\"dataframe\">\n",
       "  <thead>\n",
       "    <tr style=\"text-align: right;\">\n",
       "      <th></th>\n",
       "      <th>0</th>\n",
       "      <th>1</th>\n",
       "      <th>2</th>\n",
       "      <th>3</th>\n",
       "      <th>4</th>\n",
       "      <th>5</th>\n",
       "      <th>6</th>\n",
       "      <th>7</th>\n",
       "      <th>8</th>\n",
       "      <th>9</th>\n",
       "    </tr>\n",
       "  </thead>\n",
       "  <tbody>\n",
       "    <tr>\n",
       "      <th>0</th>\n",
       "      <td>1.0</td>\n",
       "      <td>0.0</td>\n",
       "      <td>0.0</td>\n",
       "      <td>0.0</td>\n",
       "      <td>0.0</td>\n",
       "      <td>0.0</td>\n",
       "      <td>0.0</td>\n",
       "      <td>0.0</td>\n",
       "      <td>0.0</td>\n",
       "      <td>0.0</td>\n",
       "    </tr>\n",
       "    <tr>\n",
       "      <th>1</th>\n",
       "      <td>0.0</td>\n",
       "      <td>1.0</td>\n",
       "      <td>0.0</td>\n",
       "      <td>0.0</td>\n",
       "      <td>0.0</td>\n",
       "      <td>0.0</td>\n",
       "      <td>0.0</td>\n",
       "      <td>0.0</td>\n",
       "      <td>0.0</td>\n",
       "      <td>0.0</td>\n",
       "    </tr>\n",
       "    <tr>\n",
       "      <th>2</th>\n",
       "      <td>0.0</td>\n",
       "      <td>0.0</td>\n",
       "      <td>1.0</td>\n",
       "      <td>0.0</td>\n",
       "      <td>0.0</td>\n",
       "      <td>0.0</td>\n",
       "      <td>0.0</td>\n",
       "      <td>0.0</td>\n",
       "      <td>0.0</td>\n",
       "      <td>0.0</td>\n",
       "    </tr>\n",
       "    <tr>\n",
       "      <th>3</th>\n",
       "      <td>0.0</td>\n",
       "      <td>0.0</td>\n",
       "      <td>0.0</td>\n",
       "      <td>1.0</td>\n",
       "      <td>0.0</td>\n",
       "      <td>0.0</td>\n",
       "      <td>0.0</td>\n",
       "      <td>0.0</td>\n",
       "      <td>0.0</td>\n",
       "      <td>0.0</td>\n",
       "    </tr>\n",
       "    <tr>\n",
       "      <th>4</th>\n",
       "      <td>0.0</td>\n",
       "      <td>0.0</td>\n",
       "      <td>0.0</td>\n",
       "      <td>0.0</td>\n",
       "      <td>1.0</td>\n",
       "      <td>0.0</td>\n",
       "      <td>0.0</td>\n",
       "      <td>0.0</td>\n",
       "      <td>0.0</td>\n",
       "      <td>0.0</td>\n",
       "    </tr>\n",
       "    <tr>\n",
       "      <th>5</th>\n",
       "      <td>0.0</td>\n",
       "      <td>0.0</td>\n",
       "      <td>0.0</td>\n",
       "      <td>0.0</td>\n",
       "      <td>0.0</td>\n",
       "      <td>1.0</td>\n",
       "      <td>0.0</td>\n",
       "      <td>0.0</td>\n",
       "      <td>0.0</td>\n",
       "      <td>0.0</td>\n",
       "    </tr>\n",
       "    <tr>\n",
       "      <th>6</th>\n",
       "      <td>0.0</td>\n",
       "      <td>0.0</td>\n",
       "      <td>0.0</td>\n",
       "      <td>0.0</td>\n",
       "      <td>0.0</td>\n",
       "      <td>0.0</td>\n",
       "      <td>1.0</td>\n",
       "      <td>0.0</td>\n",
       "      <td>0.0</td>\n",
       "      <td>0.0</td>\n",
       "    </tr>\n",
       "    <tr>\n",
       "      <th>7</th>\n",
       "      <td>0.0</td>\n",
       "      <td>0.0</td>\n",
       "      <td>0.0</td>\n",
       "      <td>0.0</td>\n",
       "      <td>0.0</td>\n",
       "      <td>0.0</td>\n",
       "      <td>0.0</td>\n",
       "      <td>1.0</td>\n",
       "      <td>0.0</td>\n",
       "      <td>0.0</td>\n",
       "    </tr>\n",
       "    <tr>\n",
       "      <th>8</th>\n",
       "      <td>0.0</td>\n",
       "      <td>0.0</td>\n",
       "      <td>0.0</td>\n",
       "      <td>0.0</td>\n",
       "      <td>0.0</td>\n",
       "      <td>0.0</td>\n",
       "      <td>0.0</td>\n",
       "      <td>0.0</td>\n",
       "      <td>1.0</td>\n",
       "      <td>0.0</td>\n",
       "    </tr>\n",
       "    <tr>\n",
       "      <th>9</th>\n",
       "      <td>0.0</td>\n",
       "      <td>0.0</td>\n",
       "      <td>0.0</td>\n",
       "      <td>0.0</td>\n",
       "      <td>0.0</td>\n",
       "      <td>0.0</td>\n",
       "      <td>0.0</td>\n",
       "      <td>0.0</td>\n",
       "      <td>0.0</td>\n",
       "      <td>1.0</td>\n",
       "    </tr>\n",
       "  </tbody>\n",
       "</table>\n",
       "</div>"
      ],
      "text/plain": [
       "     0    1    2    3    4    5    6    7    8    9\n",
       "0  1.0  0.0  0.0  0.0  0.0  0.0  0.0  0.0  0.0  0.0\n",
       "1  0.0  1.0  0.0  0.0  0.0  0.0  0.0  0.0  0.0  0.0\n",
       "2  0.0  0.0  1.0  0.0  0.0  0.0  0.0  0.0  0.0  0.0\n",
       "3  0.0  0.0  0.0  1.0  0.0  0.0  0.0  0.0  0.0  0.0\n",
       "4  0.0  0.0  0.0  0.0  1.0  0.0  0.0  0.0  0.0  0.0\n",
       "5  0.0  0.0  0.0  0.0  0.0  1.0  0.0  0.0  0.0  0.0\n",
       "6  0.0  0.0  0.0  0.0  0.0  0.0  1.0  0.0  0.0  0.0\n",
       "7  0.0  0.0  0.0  0.0  0.0  0.0  0.0  1.0  0.0  0.0\n",
       "8  0.0  0.0  0.0  0.0  0.0  0.0  0.0  0.0  1.0  0.0\n",
       "9  0.0  0.0  0.0  0.0  0.0  0.0  0.0  0.0  0.0  1.0"
      ]
     },
     "execution_count": 7,
     "metadata": {},
     "output_type": "execute_result"
    }
   ],
   "source": [
    "def identity(n): \n",
    "    df = pd.DataFrame()\n",
    "    for i in range(n): \n",
    "        for j in range(n):\n",
    "            if i == j:\n",
    "                df.loc[i,j] = 1\n",
    "            else: \n",
    "                df.loc[i,j] = 0 \n",
    "    return df\n",
    "\n",
    "identity(10)"
   ]
  },
  {
   "cell_type": "markdown",
   "id": "0fd6b70d",
   "metadata": {},
   "source": [
    "# Numpy \n",
    "\n",
    "- works really well with linear algebra\n",
    "    - Uses array data structur (basically a matrix)\n",
    "    - np.transpose(A) transposes A \n",
    "    - A @ B multiplies the matrices A and B \n",
    "    - np.shape(A) returns a list with [number of rows, nuber of columns]\n",
    "    - to get eiganvalues and eigenvectors ....... (?)"
   ]
  },
  {
   "cell_type": "code",
   "execution_count": null,
   "id": "23923245",
   "metadata": {},
   "outputs": [
    {
     "name": "stdout",
     "output_type": "stream",
     "text": [
      "This is not even orthogonal.\n"
     ]
    }
   ],
   "source": [
    "import numpy as np \n",
    "\n",
    "A = np.array([ ])\n",
    "\n",
    "def isOrtho(A):\n",
    "    AT = np.transpose(A)\n",
    "    B = AT @ A\n",
    "    sh = np.shape(B)\n",
    "\n",
    "    is_diag = True \n",
    "    is_orth = True \n",
    "\n",
    "    for i in range(sh[0]):\n",
    "        for j in range(sh[1]):\n",
    "            if i == j: \n",
    "                if B[i,j] !=1: \n",
    "                    is_orth = False \n",
    "            else: \n",
    "                if B[i,j] != 0: \n",
    "                    is_diag = False \n",
    "\n",
    "    if is_diag is True and is_orth is True: \n",
    "        return print ('This is an orthogonal basis')\n",
    "    elif is_diag is True and is_orth is False: \n",
    "        return print ('This is an orthogonal basis, but not orthogonal')\n",
    "    else: \n",
    "        return print('This is not even orthogonal.')\n",
    "    \n",
    "\n",
    "isOrtho(A)\n",
    "    \n"
   ]
  },
  {
   "cell_type": "markdown",
   "id": "03808cad",
   "metadata": {},
   "source": [
    "Getting eiganvalues and eiganvectros "
   ]
  },
  {
   "cell_type": "code",
   "execution_count": null,
   "id": "a3e96d3e",
   "metadata": {},
   "outputs": [],
   "source": []
  },
  {
   "cell_type": "markdown",
   "id": "f755e65f",
   "metadata": {},
   "source": [
    "# MatPlotLib.pyplot"
   ]
  },
  {
   "cell_type": "code",
   "execution_count": 20,
   "id": "41ca5714",
   "metadata": {},
   "outputs": [
    {
     "data": {
      "text/html": [
       "<div>\n",
       "<style scoped>\n",
       "    .dataframe tbody tr th:only-of-type {\n",
       "        vertical-align: middle;\n",
       "    }\n",
       "\n",
       "    .dataframe tbody tr th {\n",
       "        vertical-align: top;\n",
       "    }\n",
       "\n",
       "    .dataframe thead th {\n",
       "        text-align: right;\n",
       "    }\n",
       "</style>\n",
       "<table border=\"1\" class=\"dataframe\">\n",
       "  <thead>\n",
       "    <tr style=\"text-align: right;\">\n",
       "      <th></th>\n",
       "      <th>x</th>\n",
       "      <th>y</th>\n",
       "    </tr>\n",
       "  </thead>\n",
       "  <tbody>\n",
       "    <tr>\n",
       "      <th>0</th>\n",
       "      <td>-3</td>\n",
       "      <td>9</td>\n",
       "    </tr>\n",
       "    <tr>\n",
       "      <th>1</th>\n",
       "      <td>-2.994</td>\n",
       "      <td>8.964036</td>\n",
       "    </tr>\n",
       "    <tr>\n",
       "      <th>2</th>\n",
       "      <td>-2.988</td>\n",
       "      <td>8.928144</td>\n",
       "    </tr>\n",
       "    <tr>\n",
       "      <th>3</th>\n",
       "      <td>-2.982</td>\n",
       "      <td>8.892324</td>\n",
       "    </tr>\n",
       "    <tr>\n",
       "      <th>4</th>\n",
       "      <td>-2.976</td>\n",
       "      <td>8.856576</td>\n",
       "    </tr>\n",
       "    <tr>\n",
       "      <th>...</th>\n",
       "      <td>...</td>\n",
       "      <td>...</td>\n",
       "    </tr>\n",
       "    <tr>\n",
       "      <th>995</th>\n",
       "      <td>2.97</td>\n",
       "      <td>8.8209</td>\n",
       "    </tr>\n",
       "    <tr>\n",
       "      <th>996</th>\n",
       "      <td>2.976</td>\n",
       "      <td>8.856576</td>\n",
       "    </tr>\n",
       "    <tr>\n",
       "      <th>997</th>\n",
       "      <td>2.982</td>\n",
       "      <td>8.892324</td>\n",
       "    </tr>\n",
       "    <tr>\n",
       "      <th>998</th>\n",
       "      <td>2.988</td>\n",
       "      <td>8.928144</td>\n",
       "    </tr>\n",
       "    <tr>\n",
       "      <th>999</th>\n",
       "      <td>2.994</td>\n",
       "      <td>8.964036</td>\n",
       "    </tr>\n",
       "  </tbody>\n",
       "</table>\n",
       "<p>1000 rows × 2 columns</p>\n",
       "</div>"
      ],
      "text/plain": [
       "         x         y\n",
       "0       -3         9\n",
       "1   -2.994  8.964036\n",
       "2   -2.988  8.928144\n",
       "3   -2.982  8.892324\n",
       "4   -2.976  8.856576\n",
       "..     ...       ...\n",
       "995   2.97    8.8209\n",
       "996  2.976  8.856576\n",
       "997  2.982  8.892324\n",
       "998  2.988  8.928144\n",
       "999  2.994  8.964036\n",
       "\n",
       "[1000 rows x 2 columns]"
      ]
     },
     "metadata": {},
     "output_type": "display_data"
    },
    {
     "data": {
      "image/png": "[encoded data removed]",
      "text/plain": [
       "<Figure size 640x480 with 1 Axes>"
      ]
     },
     "metadata": {},
     "output_type": "display_data"
    }
   ],
   "source": [
    "import matplotlib.pyplot as plt \n",
    "\n",
    "def funcMaker(a,b,samples):\n",
    "    dx = (b-a)/samples \n",
    "    df = pd.DataFrame(columns=['x','y'])\n",
    "    df.loc[0,'x'] = a\n",
    "    df.loc[0,'y'] = a**2\n",
    "\n",
    "    for i in range(1,samples): \n",
    "        df.loc[i,'x'] = df.loc[i-1,'x'] + dx \n",
    "        df.loc[i,'y'] = (df.loc[i,'x'])**2\n",
    "\n",
    "    return df \n",
    "\n",
    "yIsXsquared = funcMaker(-3,3,1000)\n",
    "display(yIsXsquared)\n",
    "\n",
    "plt.figure \n",
    "plt.plot(yIsXsquared['x'], yIsXsquared['y'], label='Our Function y-x^2')\n",
    "plt.plot(yIsXsquared['x'], -1*yIsXsquared['y'], label='Our Function y=-x^2')\n",
    "plt.title('Graphing our Fucntions')\n",
    "plt.xlabel('X axis')\n",
    "plt.ylabel('Y axis')\n",
    "plt.legend()\n",
    "plt.show()"
   ]
  },
  {
   "cell_type": "code",
   "execution_count": null,
   "id": "5550993e",
   "metadata": {},
   "outputs": [],
   "source": []
  }
 ],
 "metadata": {
  "kernelspec": {
   "display_name": "base",
   "language": "python",
   "name": "python3"
  },
  "language_info": {
   "codemirror_mode": {
    "name": "ipython",
    "version": 3
   },
   "file_extension": ".py",
   "mimetype": "text/x-python",
   "name": "python",
   "nbconvert_exporter": "python",
   "pygments_lexer": "ipython3",
   "version": "3.12.7"
  }
 },
 "nbformat": 4,
 "nbformat_minor": 5
}
