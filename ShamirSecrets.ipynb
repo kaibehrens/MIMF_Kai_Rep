{
 "cells": [
  {
   "cell_type": "markdown",
   "id": "1a5c7e00",
   "metadata": {},
   "source": [
    "Shamir Secret Sharing:\n",
    "\n",
    "- Enter the secret, s, and the minimum number of recipients, t, of n shares.\n",
    "\n",
    "- Let p > max(s, n), with $\\mathbb{F}_p$ as our finite field. \n",
    "\n",
    "- Generate random coefficients for a polynomial of degree t-1, f(x), with the y-intercept as the secret text.\n",
    "\n",
    "- Compute n points on the polynomial, (x, f(x)), with $x \\neq 0$.\n",
    "\n",
    "- Give each participant a unique point.\n",
    "\n",
    "- To reconstruct the secret, use Lagrange interpolation formula with t many points of interpolation, and evaluate it at f(0) mod p."
   ]
  },
  {
   "cell_type": "code",
   "execution_count": 3,
   "id": "61faf1d7",
   "metadata": {},
   "outputs": [],
   "source": [
    "import pandas as pd \n",
    "import sagemath as sg \n",
    "import random as rd\n",
    "import numpy as np\n",
    "import plotly.express as px\n",
    "from random import randint\n",
    "from math import gcd\n",
    "import gmpy2\n",
    "from gmpy2 import mpz, is_prime, gcdext, invert\n",
    "import sympy as sp\n",
    "from sympy import isprime, factorint, mod_inverse\n",
    "import numpy.polynomial.polynomial as poly"
   ]
  },
  {
   "cell_type": "markdown",
   "id": "d4f1216d",
   "metadata": {},
   "source": [
    "Encoding"
   ]
  },
  {
   "cell_type": "code",
   "execution_count": null,
   "id": "bc569569",
   "metadata": {},
   "outputs": [
    {
     "name": "stdout",
     "output_type": "stream",
     "text": [
      "We are using Z mod 101 as our finite field.\n",
      "\n",
      "Polynomial:\n"
     ]
    },
    {
     "data": {
      "text/latex": [
       "$x \\mapsto \\text{67.0} + \\text{91.0}\\,x + \\text{25.0}\\,x^{2} + \\text{12.0}\\,x^{3} + \\text{74.0}\\,x^{4}$"
      ],
      "text/plain": [
       "Polynomial([67., 91., 25., 12., 74.], domain=[-1,  1], window=[-1,  1], symbol='x')"
      ]
     },
     "metadata": {},
     "output_type": "display_data"
    },
    {
     "data": {
      "text/html": [
       "<div>\n",
       "<style scoped>\n",
       "    .dataframe tbody tr th:only-of-type {\n",
       "        vertical-align: middle;\n",
       "    }\n",
       "\n",
       "    .dataframe tbody tr th {\n",
       "        vertical-align: top;\n",
       "    }\n",
       "\n",
       "    .dataframe thead th {\n",
       "        text-align: right;\n",
       "    }\n",
       "</style>\n",
       "<table border=\"1\" class=\"dataframe\">\n",
       "  <thead>\n",
       "    <tr style=\"text-align: right;\">\n",
       "      <th></th>\n",
       "      <th>X</th>\n",
       "      <th>f(X)</th>\n",
       "    </tr>\n",
       "  </thead>\n",
       "  <tbody>\n",
       "    <tr>\n",
       "      <th>0</th>\n",
       "      <td>99</td>\n",
       "      <td>7120308163.0</td>\n",
       "    </tr>\n",
       "    <tr>\n",
       "      <th>1</th>\n",
       "      <td>5</td>\n",
       "      <td>48897.0</td>\n",
       "    </tr>\n",
       "    <tr>\n",
       "      <th>2</th>\n",
       "      <td>15</td>\n",
       "      <td>3793807.0</td>\n",
       "    </tr>\n",
       "    <tr>\n",
       "      <th>3</th>\n",
       "      <td>9</td>\n",
       "      <td>497173.0</td>\n",
       "    </tr>\n",
       "    <tr>\n",
       "      <th>4</th>\n",
       "      <td>77</td>\n",
       "      <td>2606958729.0</td>\n",
       "    </tr>\n",
       "    <tr>\n",
       "      <th>...</th>\n",
       "      <td>...</td>\n",
       "      <td>...</td>\n",
       "    </tr>\n",
       "    <tr>\n",
       "      <th>87</th>\n",
       "      <td>18</td>\n",
       "      <td>7848013.0</td>\n",
       "    </tr>\n",
       "    <tr>\n",
       "      <th>88</th>\n",
       "      <td>74</td>\n",
       "      <td>2224013013.0</td>\n",
       "    </tr>\n",
       "    <tr>\n",
       "      <th>89</th>\n",
       "      <td>28</td>\n",
       "      <td>45770183.0</td>\n",
       "    </tr>\n",
       "    <tr>\n",
       "      <th>97</th>\n",
       "      <td>16</td>\n",
       "      <td>4906739.0</td>\n",
       "    </tr>\n",
       "    <tr>\n",
       "      <th>98</th>\n",
       "      <td>97</td>\n",
       "      <td>6562362989.0</td>\n",
       "    </tr>\n",
       "  </tbody>\n",
       "</table>\n",
       "<p>67 rows × 2 columns</p>\n",
       "</div>"
      ],
      "text/plain": [
       "     X          f(X)\n",
       "0   99  7120308163.0\n",
       "1    5       48897.0\n",
       "2   15     3793807.0\n",
       "3    9      497173.0\n",
       "4   77  2606958729.0\n",
       "..  ..           ...\n",
       "87  18     7848013.0\n",
       "88  74  2224013013.0\n",
       "89  28    45770183.0\n",
       "97  16     4906739.0\n",
       "98  97  6562362989.0\n",
       "\n",
       "[67 rows x 2 columns]"
      ]
     },
     "metadata": {},
     "output_type": "display_data"
    }
   ],
   "source": [
    "secret = 67 # item we are encrypting \n",
    "min_reps = 5 # number of reciepeients\n",
    "n = 100 # number of sample size aka crowd \n",
    "\n",
    "p = max(secret, n) + 1  # lower bound of said prime number\n",
    "def getPrime(p): # sets p = to a prime number\n",
    "    k = False  # initial condition of k\n",
    "\n",
    "    while k == False: # '''starts loop, runs \"Boulian\" condition until prime number, when it finds \n",
    "        # prime number, breaks loop, when not adds 1 and continues'''\n",
    "        if isprime(p) == True: \n",
    "            k = True\n",
    "        else:\n",
    "            p = p +1   \n",
    "        \n",
    "    return p\n",
    "\n",
    "prime = getPrime(p) # runs our previously established function\n",
    "print(f'We are using Z mod {prime} as our finite field.') # prints message with our prime number\n",
    "\n",
    "\n",
    "def polynomialMaker(t,prime): \n",
    "    polylist = [secret] # initializes your array and sets our first value to our secrets\n",
    "    for i in range(t-1): # number of reciepents (t / min_reps) -1\n",
    "        polylist = polylist + [randint(0,prime)] #''' appends (ends our loop after our i = min_reps/t a value \n",
    "        # between 0 and your prime number to the end of your polylist'''\n",
    "    eq = poly.Polynomial(polylist) # makes the polynomial output readable\n",
    "    return eq # ends our loop \n",
    "\n",
    "# Printing info presented in previous loop\n",
    "encodingPoly = polynomialMaker(min_reps,prime)\n",
    "print('\\nPolynomial:')\n",
    "display(encodingPoly)  \n",
    "\n",
    "\n",
    "# This is the part where we are building out the L(i)\n",
    "def splitter(eq, n, prime):  \n",
    "    points = pd.DataFrame(columns=['X', 'f(X)']) # establishes our coloumn names\n",
    "    list = [] # starts our empty list\n",
    "    for i in range(n): # establishes our range with n = # of people in crowd\n",
    "        k = randint(1,n) # gives random integer between 1 and 100 = n\n",
    "        if k in list: \n",
    "            continue # so if k in our list we continure our loop\n",
    "        else:\n",
    "            list = list + [k] # if not in our list we add k to our lsit\n",
    "            points.loc[i, 'X' ] = k # i is our recpients, lines our random int. X up with proper reciepent\n",
    "            num = eq(k) # polynomial in terms of k\n",
    "            points.loc[i, 'f(X)'] = num # i is our recpients, lines our F(X) number up with proper reciepent\n",
    "    \n",
    "    return points # ends loop\n",
    "\n",
    "ciphertext = splitter(encodingPoly, n, prime) # takes previous loop and inputs it into a nice table\n",
    "display(ciphertext) # prints out our information"
   ]
  },
  {
   "cell_type": "markdown",
   "id": "30b724d1",
   "metadata": {},
   "source": [
    "Decoding:"
   ]
  },
  {
   "cell_type": "code",
   "execution_count": 14,
   "id": "a5afcd94",
   "metadata": {},
   "outputs": [
    {
     "name": "stdout",
     "output_type": "stream",
     "text": [
      "Lagrange Polynomial is -34.0 + 17.0 x + 0.0 x**2 + 3.0 x**3 - 43.0 x**4\n",
      "\n",
      "Safetext was 67.0\n"
     ]
    }
   ],
   "source": [
    "def modinv(a, p):\n",
    "    return pow(a, p - 2, p)\n",
    "\n",
    "def lagrange_symbolic(df, p):\n",
    "    x = sp.Symbol('x')\n",
    "    xs = [int(v) for v in df['X']]\n",
    "    ys = [int(v) for v in df['f(X)']]\n",
    "    n = len(xs)\n",
    "\n",
    "    poly = 0\n",
    "    for i in range(n):\n",
    "        xi, yi = xs[i], ys[i]\n",
    "        term = yi\n",
    "        numerator = 1\n",
    "        denominator = 1\n",
    "        Li = 1\n",
    "        for j in range(n):\n",
    "            if i != j:\n",
    "                xj = xs[j]\n",
    "                numerator *= (x - xj)\n",
    "                denominator *= (xi - xj) % p\n",
    "        Li = numerator * modinv(denominator, p)\n",
    "        poly += term * Li\n",
    "\n",
    "    # Expand and reduce modulo p\n",
    "    poly = sp.expand(poly)\n",
    "    coeffs = sp.Poly(poly, x, modulus=p).all_coeffs()  # highest degree first\n",
    "\n",
    "    # Convert to ascending order\n",
    "    return [int(c) for c in reversed(coeffs)]\n",
    "\n",
    "shift_factor = 0\n",
    "\n",
    "decodingPoly = lagrange_symbolic(ciphertext.head(min_reps+shift_factor), prime)\n",
    "eq = poly.Polynomial(decodingPoly)\n",
    "print(f'Lagrange Polynomial is {eq}')\n",
    "print(f'\\nSafetext was {(eq(0)%prime)}')\n"
   ]
  }
 ],
 "metadata": {
  "kernelspec": {
   "display_name": "Python 3",
   "language": "python",
   "name": "python3"
  },
  "language_info": {
   "codemirror_mode": {
    "name": "ipython",
    "version": 3
   },
   "file_extension": ".py",
   "mimetype": "text/x-python",
   "name": "python",
   "nbconvert_exporter": "python",
   "pygments_lexer": "ipython3",
   "version": "3.12.10"
  }
 },
 "nbformat": 4,
 "nbformat_minor": 5
}
